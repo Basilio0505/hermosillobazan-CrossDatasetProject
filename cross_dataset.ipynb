{
 "cells": [
  {
   "cell_type": "code",
   "execution_count": 17,
   "metadata": {},
   "outputs": [
    {
     "data": {
      "text/html": [
       "<div>\n",
       "<style scoped>\n",
       "    .dataframe tbody tr th:only-of-type {\n",
       "        vertical-align: middle;\n",
       "    }\n",
       "\n",
       "    .dataframe tbody tr th {\n",
       "        vertical-align: top;\n",
       "    }\n",
       "\n",
       "    .dataframe thead th {\n",
       "        text-align: right;\n",
       "    }\n",
       "</style>\n",
       "<table border=\"1\" class=\"dataframe\">\n",
       "  <thead>\n",
       "    <tr style=\"text-align: right;\">\n",
       "      <th></th>\n",
       "    </tr>\n",
       "  </thead>\n",
       "  <tbody>\n",
       "  </tbody>\n",
       "</table>\n",
       "</div>"
      ],
      "text/plain": [
       "Empty DataFrame\n",
       "Columns: []\n",
       "Index: []"
      ]
     },
     "execution_count": 17,
     "metadata": {},
     "output_type": "execute_result"
    }
   ],
   "source": [
    "%%bigquery \n",
    "--Count storm events vs fires per state\n",
    "\n",
    "\n",
    "    \n",
    "    \n",
    "create view reporting.v_Storm_and_fires_per_states as\n",
    "SELECT h.state, Event_Amount as Storms , fires as fires\n",
    "FROM\n",
    "(SELECT state, COUNT(event_type) AS Event_Amount\n",
    "FROM `trusty-wavelet-252622.storm_events_modeled.Curated_StormEvents_Beam` c\n",
    "JOIN  (SELECT a.county_id, a.name, b.state \n",
    "FROM `trusty-wavelet-252622.storm_events_modeled.Locations_Beam` a\n",
    "JOIN  `trusty-wavelet-252622.storm_events_modeled.State` b \n",
    "on a.state_fips = b.state_fips) d\n",
    "on c.county_id = d.county_id\n",
    "GROUP BY state) h \n",
    "JOIN(SELECT state, COUNT(incident_id) AS fires\n",
    "FROM ( SELECT incident_id, c.state as state\n",
    "FROM `trusty-wavelet-252622.WildLand_Incidents_modeled.Incidents_Beam` a JOIN \n",
    "(SELECT b.statename as state, b.state_id\n",
    "FROM `trusty-wavelet-252622.WildLand_Incidents_modeled.State_Beam` b) c\n",
    "on a.state = c.state_id) \n",
    "GROUP BY state) g\n",
    "on h.state = g.state\n",
    "order BY h.state"
   ]
  },
  {
   "cell_type": "code",
   "execution_count": 18,
   "metadata": {},
   "outputs": [
    {
     "data": {
      "text/html": [
       "<div>\n",
       "<style scoped>\n",
       "    .dataframe tbody tr th:only-of-type {\n",
       "        vertical-align: middle;\n",
       "    }\n",
       "\n",
       "    .dataframe tbody tr th {\n",
       "        vertical-align: top;\n",
       "    }\n",
       "\n",
       "    .dataframe thead th {\n",
       "        text-align: right;\n",
       "    }\n",
       "</style>\n",
       "<table border=\"1\" class=\"dataframe\">\n",
       "  <thead>\n",
       "    <tr style=\"text-align: right;\">\n",
       "      <th></th>\n",
       "    </tr>\n",
       "  </thead>\n",
       "  <tbody>\n",
       "  </tbody>\n",
       "</table>\n",
       "</div>"
      ],
      "text/plain": [
       "Empty DataFrame\n",
       "Columns: []\n",
       "Index: []"
      ]
     },
     "execution_count": 18,
     "metadata": {},
     "output_type": "execute_result"
    }
   ],
   "source": [
    "%%bigquery \n",
    "\n",
    "--Count storm events vs fires per month\n",
    "\n",
    "create view reporting.v_Storm_and_fires_per_month as\n",
    "SELECT a.month, a.Event_Amount as Storms, b.Event_Amount as Fires\n",
    "FROM (SELECT month_name as month , COUNT(event_type) AS Event_Amount\n",
    "FROM `trusty-wavelet-252622.storm_events_modeled.Curated_StormEvents_Beam` c\n",
    "where c.year = 2011\n",
    "group by month)  a\n",
    "JOIN \n",
    "(SELECT month, COUNT(event_id) AS Event_Amount\n",
    "FROM (select a.incident_id as event_id, b.monthname as month\n",
    "FROM `trusty-wavelet-252622.WildLand_Incidents_modeled.Incidents_Beam` a\n",
    "join (select date, monthname\n",
    "FROM `trusty-wavelet-252622.WildLand_Incidents_modeled.Date_Beam`\n",
    "where year = 2011) b\n",
    "on a.date = b.date)\n",
    "group by month) b\n",
    "ON a.month = b.month\n",
    "\n",
    "\n"
   ]
  },
  {
   "cell_type": "code",
   "execution_count": 19,
   "metadata": {},
   "outputs": [
    {
     "data": {
      "text/html": [
       "<div>\n",
       "<style scoped>\n",
       "    .dataframe tbody tr th:only-of-type {\n",
       "        vertical-align: middle;\n",
       "    }\n",
       "\n",
       "    .dataframe tbody tr th {\n",
       "        vertical-align: top;\n",
       "    }\n",
       "\n",
       "    .dataframe thead th {\n",
       "        text-align: right;\n",
       "    }\n",
       "</style>\n",
       "<table border=\"1\" class=\"dataframe\">\n",
       "  <thead>\n",
       "    <tr style=\"text-align: right;\">\n",
       "      <th></th>\n",
       "    </tr>\n",
       "  </thead>\n",
       "  <tbody>\n",
       "  </tbody>\n",
       "</table>\n",
       "</div>"
      ],
      "text/plain": [
       "Empty DataFrame\n",
       "Columns: []\n",
       "Index: []"
      ]
     },
     "execution_count": 19,
     "metadata": {},
     "output_type": "execute_result"
    }
   ],
   "source": [
    "%%bigquery \n",
    "\n",
    "-- Crops burned per months by storm and fires\n",
    "\n",
    "create view reporting.v_crops_burned_per_storm_and_fires as\n",
    "\n",
    "SELECT r.month, average_damaged_crops as crops_by_storm, crops_burned as crops_by_fires\n",
    "FROM (SELECT month_name , count(damage_crops) average_damaged_crops\n",
    "FROM `trusty-wavelet-252622.storm_events_modeled.Curated_StormEvents_Beam` a\n",
    "where a.year = 2010 or a.year = 2011\n",
    "Group by month_name\n",
    "ORDER BY average_damaged_crops) t\n",
    "\n",
    "\n",
    "JOIN\n",
    "\n",
    "(SELECT month, COUNT( crop_burn1 ) AS crops_burned\n",
    "FROM (select a.incident_id as crop_burn1 , b.monthname as month\n",
    "FROM `trusty-wavelet-252622.WildLand_Incidents_modeled.Incidents_Beam` a\n",
    "join (select date, monthname\n",
    "FROM `trusty-wavelet-252622.WildLand_Incidents_modeled.Date_Beam`\n",
    "where year = 2011) b \n",
    "on a.date = b.date) group by month) r\n",
    "on t.month_name = r.month"
   ]
  }
 ],
 "metadata": {
  "kernelspec": {
   "display_name": "Python 2",
   "language": "python",
   "name": "python2"
  },
  "language_info": {
   "codemirror_mode": {
    "name": "ipython",
    "version": 2
   },
   "file_extension": ".py",
   "mimetype": "text/x-python",
   "name": "python",
   "nbconvert_exporter": "python",
   "pygments_lexer": "ipython2",
   "version": "2.7.13"
  }
 },
 "nbformat": 4,
 "nbformat_minor": 4
}
